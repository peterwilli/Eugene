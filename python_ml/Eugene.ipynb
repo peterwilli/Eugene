{
 "cells": [
  {
   "cell_type": "code",
   "execution_count": null,
   "metadata": {},
   "outputs": [],
   "source": [
    "from seq2seq import SimpleSeq2Seq, Seq2Seq, AttentionSeq2Seq\n",
    "import numpy as np\n",
    "import random\n",
    "import csv\n",
    "import time\n",
    "from keras.preprocessing.text import Tokenizer\n",
    "from keras.preprocessing.sequence import pad_sequences\n",
    "from keras.utils import to_categorical\n",
    "from IPython.display import clear_output"
   ]
  },
  {
   "cell_type": "code",
   "execution_count": null,
   "metadata": {},
   "outputs": [],
   "source": [
    "seed = 80085\n",
    "np.random.seed(seed)  # for reproducibility\n",
    "random.seed(seed)\n",
    "weights_path = './model.hdf5'\n",
    "\n",
    "csv.register_dialect('eugene', delimiter=';', quotechar='\"', quoting=csv.QUOTE_MINIMAL)"
   ]
  },
  {
   "cell_type": "code",
   "execution_count": null,
   "metadata": {},
   "outputs": [],
   "source": [
    "def seq_to_categorical(seq):\n",
    "    return np.array([[tokenizer.sequences_to_matrix(np.array([[s]]))[0] for s in s1] for s1 in seq])\n",
    "\n",
    "def make_sequences():\n",
    "    tX = []\n",
    "    tY = []\n",
    "\n",
    "    tokenizer = Tokenizer(lower=False)    \n",
    "    with open('../syntethic_data/data.csv', 'r') as f:\n",
    "        reader = csv.reader(f, 'eugene')\n",
    "        for row in reader:\n",
    "            tX.append(row[0])\n",
    "            tY.append(row[1])\n",
    "\n",
    "    tokenizer.fit_on_texts(tX + tY)\n",
    "    X = tokenizer.texts_to_sequences(tX)\n",
    "    Y = tokenizer.texts_to_sequences(tY)\n",
    "    return X, Y, tokenizer\n",
    "\n",
    "X, Y, tokenizer = make_sequences()\n",
    "X = pad_sequences(X)\n",
    "Y = pad_sequences(Y)\n",
    "\n",
    "X = seq_to_categorical(X)\n",
    "Y = seq_to_categorical(Y)\n",
    "\n",
    "def add_extra_dim(seqs):\n",
    "    ret = np.zeros((1,) + seqs.shape)\n",
    "    ret[0,:] = seqs\n",
    "    return ret\n",
    "print(X.shape, Y.shape)"
   ]
  },
  {
   "cell_type": "code",
   "execution_count": null,
   "metadata": {},
   "outputs": [],
   "source": [
    "def make_model():\n",
    "    input_length = X.shape[1]\n",
    "    input_dim = X.shape[2]\n",
    "    output_length = Y.shape[1]\n",
    "    output_dim = Y.shape[2]\n",
    "    print(input_length, input_dim)\n",
    "    hidden_dim = 100\n",
    "    model = SimpleSeq2Seq(output_dim=output_dim, hidden_dim=hidden_dim, output_length=output_length, input_shape=(input_length, input_dim))\n",
    "    model.compile(loss='mse', optimizer='sgd')\n",
    "    return model\n",
    "\n",
    "model = make_model()"
   ]
  },
  {
   "cell_type": "markdown",
   "metadata": {},
   "source": [
    "input_length = 5\n",
    "input_dim = 3\n",
    "\n",
    "output_length = 3\n",
    "output_dim = 4\n",
    "\n",
    "samples = 1000\n",
    "hidden_dim = 50\n",
    "\n",
    "X = None\n",
    "Y = None\n",
    "\n",
    "def test_SimpleSeq2Seq():\n",
    "    global X, Y\n",
    "    X = np.random.random((samples, input_length, input_dim))\n",
    "    Y = np.random.random((samples, output_length, output_dim))\n",
    "\n",
    "    model = SimpleSeq2Seq(output_dim=output_dim, hidden_dim=hidden_dim, output_length=output_length, input_shape=(input_length, input_dim))\n",
    "    model.compile(loss='mse', optimizer='sgd')\n",
    "    return model\n",
    "model = test_SimpleSeq2Seq()"
   ]
  },
  {
   "cell_type": "code",
   "execution_count": null,
   "metadata": {},
   "outputs": [],
   "source": [
    "while True:\n",
    "    clear_output()    \n",
    "    #print(query(\"create 10 directories starting with Y29PE67\"))\n",
    "    model.fit(X, Y, epochs=10)\n",
    "    model.save_weights(weights_path, overwrite=True)\n",
    "    time.sleep(0.25)"
   ]
  },
  {
   "cell_type": "code",
   "execution_count": null,
   "metadata": {
    "collapsed": true
   },
   "outputs": [],
   "source": [
    "def sample(preds, temperature=1.0):\n",
    "    # helper function to sample an index from a probability array\n",
    "    preds = np.asarray(preds).astype('float64')\n",
    "    preds = np.log(preds) / temperature\n",
    "    exp_preds = np.exp(preds)\n",
    "    preds = exp_preds / np.sum(exp_preds)\n",
    "    probas = np.random.multinomial(1, preds, 1)\n",
    "    return np.argmax(probas)"
   ]
  },
  {
   "cell_type": "code",
   "execution_count": null,
   "metadata": {},
   "outputs": [],
   "source": [
    "def query(natural):\n",
    "    seqs = tokenizer.texts_to_sequences([natural])\n",
    "    seqs = pad_sequences(seqs, X.shape[1])\n",
    "    seqs = seq_to_categorical(seqs)\n",
    "    return model.predict(seqs)\n",
    "\n",
    "print(query(\"create 10 directories starting with Y29PE67\"))"
   ]
  },
  {
   "cell_type": "code",
   "execution_count": null,
   "metadata": {
    "collapsed": true
   },
   "outputs": [],
   "source": []
  }
 ],
 "metadata": {
  "kernelspec": {
   "display_name": "Python 3",
   "language": "python",
   "name": "python3"
  },
  "language_info": {
   "codemirror_mode": {
    "name": "ipython",
    "version": 3
   },
   "file_extension": ".py",
   "mimetype": "text/x-python",
   "name": "python",
   "nbconvert_exporter": "python",
   "pygments_lexer": "ipython3",
   "version": "3.5.2"
  }
 },
 "nbformat": 4,
 "nbformat_minor": 2
}
