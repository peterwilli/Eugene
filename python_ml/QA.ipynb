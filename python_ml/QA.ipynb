{
 "cells": [
  {
   "cell_type": "markdown",
   "metadata": {},
   "source": [
    "#HEADS-UP - this is a script I'm converting to use Eugene natural-commands texts :)\n",
    "\n",
    "Trains two recurrent neural networks based upon a story and a question.\n",
    "The resulting merged vector is then queried to answer a range of bAbI tasks.\n",
    "\n",
    "The results are comparable to those for an LSTM model provided in Weston et al.:\n",
    "\"Towards AI-Complete Question Answering: A Set of Prerequisite Toy Tasks\"\n",
    "http://arxiv.org/abs/1502.05698\n",
    "\n",
    "Task Number                  | FB LSTM Baseline | Keras QA\n",
    "---                          | ---              | ---\n",
    "QA1 - Single Supporting Fact | 50               | 100.0\n",
    "QA2 - Two Supporting Facts   | 20               | 50.0\n",
    "QA3 - Three Supporting Facts | 20               | 20.5\n",
    "QA4 - Two Arg. Relations     | 61               | 62.9\n",
    "QA5 - Three Arg. Relations   | 70               | 61.9\n",
    "QA6 - Yes/No Questions       | 48               | 50.7\n",
    "QA7 - Counting               | 49               | 78.9\n",
    "QA8 - Lists/Sets             | 45               | 77.2\n",
    "QA9 - Simple Negation        | 64               | 64.0\n",
    "QA10 - Indefinite Knowledge  | 44               | 47.7\n",
    "QA11 - Basic Coreference     | 72               | 74.9\n",
    "QA12 - Conjunction           | 74               | 76.4\n",
    "QA13 - Compound Coreference  | 94               | 94.4\n",
    "QA14 - Time Reasoning        | 27               | 34.8\n",
    "QA15 - Basic Deduction       | 21               | 32.4\n",
    "QA16 - Basic Induction       | 23               | 50.6\n",
    "QA17 - Positional Reasoning  | 51               | 49.1\n",
    "QA18 - Size Reasoning        | 52               | 90.8\n",
    "QA19 - Path Finding          | 8                | 9.0\n",
    "QA20 - Agent's Motivations   | 91               | 90.7\n",
    "\n",
    "For the resources related to the bAbI project, refer to:\n",
    "https://research.facebook.com/researchers/1543934539189348\n",
    "\n",
    "Notes:\n",
    "\n",
    "- With default word, sentence, and query vector sizes, the GRU model achieves:\n",
    "  - 100% test accuracy on QA1 in 20 epochs (2 seconds per epoch on CPU)\n",
    "  - 50% test accuracy on QA2 in 20 epochs (16 seconds per epoch on CPU)\n",
    "In comparison, the Facebook paper achieves 50% and 20% for the LSTM baseline.\n",
    "\n",
    "- The task does not traditionally parse the question separately. This likely\n",
    "improves accuracy and is a good example of merging two RNNs.\n",
    "\n",
    "- The word vector embeddings are not shared between the story and question RNNs.\n",
    "\n",
    "- See how the accuracy changes given 10,000 training samples (en-10k) instead\n",
    "of only 1000. 1000 was used in order to be comparable to the original paper.\n",
    "\n",
    "- Experiment with GRU, LSTM, and JZS1-3 as they give subtly different results.\n",
    "\n",
    "- The length and noise (i.e. 'useless' story components) impact the ability for\n",
    "LSTMs / GRUs to provide the correct answer. Given only the supporting facts,\n",
    "these RNNs can achieve 100% accuracy on many tasks. Memory networks and neural\n",
    "networks that use attentional processes can efficiently search through this\n",
    "noise to find the relevant statements, improving performance substantially.\n",
    "This becomes especially obvious on QA2 and QA3, both far longer than QA1."
   ]
  },
  {
   "cell_type": "code",
   "execution_count": 1,
   "metadata": {},
   "outputs": [
    {
     "name": "stderr",
     "output_type": "stream",
     "text": [
      "Using TensorFlow backend.\n"
     ]
    }
   ],
   "source": [
    "from functools import reduce\n",
    "import re\n",
    "import tarfile\n",
    "import os\n",
    "import random\n",
    "import numpy as np\n",
    "import csv\n",
    "\n",
    "from pprint import pprint\n",
    "\n",
    "seed = 80085\n",
    "np.random.seed(seed)  # for reproducibility\n",
    "random.seed(seed)\n",
    "\n",
    "csv.register_dialect('eugene', delimiter=';', quotechar='\"', quoting=csv.QUOTE_MINIMAL)\n",
    "\n",
    "from keras.utils.data_utils import get_file\n",
    "from keras.layers.embeddings import Embedding\n",
    "from keras.layers import Dense, Merge, Dropout, RepeatVector\n",
    "from keras.layers import recurrent\n",
    "from keras.models import Sequential\n",
    "from keras.preprocessing.sequence import pad_sequences"
   ]
  },
  {
   "cell_type": "code",
   "execution_count": 2,
   "metadata": {},
   "outputs": [
    {
     "name": "stdout",
     "output_type": "stream",
     "text": [
      "RNN / Embed / Sent / Query = <class 'keras.layers.recurrent.GRU'>, 200\n"
     ]
    }
   ],
   "source": [
    "RNN = recurrent.GRU\n",
    "EMBED_HIDDEN_SIZE = 200\n",
    "BATCH_SIZE = 128\n",
    "EPOCHS = 200\n",
    "PATH_MODEL = \"model.hdf5\"\n",
    "print('RNN / Embed / Sent / Query = {}, {}'.format(RNN, EMBED_HIDDEN_SIZE))"
   ]
  },
  {
   "cell_type": "code",
   "execution_count": 3,
   "metadata": {
    "collapsed": true
   },
   "outputs": [],
   "source": [
    "def tokenize(sent):\n",
    "    '''Return the tokens of a sentence including punctuation.\n",
    "\n",
    "    >>> tokenize('Bob dropped the apple. Where is the apple?')\n",
    "    ['Bob', 'dropped', 'the', 'apple', '.', 'Where', 'is', 'the', 'apple', '?']\n",
    "    '''\n",
    "    return [x.strip() for x in re.split('(\\W+)?', sent) if x.strip()]\n",
    "\n",
    "\n",
    "def parse_stories(lines, only_supporting=False):\n",
    "    '''Parse stories provided in the bAbi tasks format\n",
    "\n",
    "    If only_supporting is true, only the sentences that support the answer are kept.\n",
    "    '''\n",
    "    data = []\n",
    "    story = []\n",
    "    for line in lines:\n",
    "        line = line.decode('utf-8').strip()\n",
    "        nid, line = line.split(' ', 1)\n",
    "        nid = int(nid)\n",
    "        if nid == 1:\n",
    "            story = []\n",
    "        if '\\t' in line:\n",
    "            q, a, supporting = line.split('\\t')\n",
    "            q = tokenize(q)\n",
    "            substory = None\n",
    "            if only_supporting:\n",
    "                # Only select the related substory\n",
    "                supporting = map(int, supporting.split())\n",
    "                substory = [story[i - 1] for i in supporting]\n",
    "            else:\n",
    "                # Provide all the substories\n",
    "                substory = [x for x in story if x]\n",
    "            data.append((substory, q, a))\n",
    "            story.append('')\n",
    "        else:\n",
    "            sent = tokenize(line)\n",
    "            story.append(sent)\n",
    "    return data\n",
    "\n",
    "t = 0\n",
    "def get_stories(f, only_supporting=False, max_length=None):\n",
    "    global t\n",
    "    '''Given a file name, read the file, retrieve the stories, and then convert the sentences into a single story.\n",
    "\n",
    "    If max_length is supplied, any stories longer than max_length tokens will be discarded.\n",
    "    '''\n",
    "    data = parse_stories(f.readlines(), only_supporting=only_supporting)\n",
    "    flatten = lambda data: reduce(lambda x, y: x + y, data)\n",
    "    data = [(flatten(story), q, answer) for story, q, answer in data if not max_length or len(flatten(story)) < max_length]\n",
    "    return data\n",
    "\n",
    "def vectorize_stories(data, word_idx, story_maxlen, query_maxlen):\n",
    "    X = []\n",
    "    Y = []\n",
    "    for natural, cmd in data:\n",
    "        x = [word_idx[w] for w in natural]\n",
    "        y = [word_idx[w] for w in cmd]\n",
    "        X.append(x)\n",
    "        Y.append(y)\n",
    "        \n",
    "    return pad_sequences(X, maxlen=story_maxlen), pad_sequences(Y, maxlen=query_maxlen)"
   ]
  },
  {
   "cell_type": "code",
   "execution_count": 4,
   "metadata": {},
   "outputs": [
    {
     "name": "stdout",
     "output_type": "stream",
     "text": [
      "data path: /home/peter/.keras/datasets/babi-tasks-v1-2.tar.gz\n"
     ]
    }
   ],
   "source": [
    "try:\n",
    "    path = get_file('babi-tasks-v1-2.tar.gz', origin='https://s3.amazonaws.com/text-datasets/babi_tasks_1-20_v1-2.tar.gz')\n",
    "except:\n",
    "    print('Error downloading dataset, please download it manually:\\n'\n",
    "          '$ wget http://www.thespermwhale.com/jaseweston/babi/tasks_1-20_v1-2.tar.gz\\n'\n",
    "          '$ mv tasks_1-20_v1-2.tar.gz ~/.keras/datasets/babi-tasks-v1-2.tar.gz')\n",
    "    raise\n",
    "print(\"data path: %s\" % path)"
   ]
  },
  {
   "cell_type": "code",
   "execution_count": 5,
   "metadata": {},
   "outputs": [
    {
     "name": "stderr",
     "output_type": "stream",
     "text": [
      "/home/peter/Projects/eugene/venv/lib/python3.5/re.py:203: FutureWarning: split() requires a non-empty pattern match.\n",
      "  return _compile(pattern, flags).split(string, maxsplit)\n"
     ]
    }
   ],
   "source": [
    "train = []\n",
    "test = []\n",
    "with open('../syntethic_data/data.csv', 'r') as f:\n",
    "    reader = csv.reader(f, 'eugene')\n",
    "    chance_test = 0.2\n",
    "    for row in reader:\n",
    "        to_append = [tokenize(row[0]), tokenize(row[1])]\n",
    "        if random.uniform(0, 1) <= chance_test:\n",
    "            test.append(to_append)\n",
    "        else:\n",
    "            train.append(to_append) \n",
    "random.shuffle(test)\n",
    "random.shuffle(train)"
   ]
  },
  {
   "cell_type": "code",
   "execution_count": 15,
   "metadata": {},
   "outputs": [],
   "source": [
    "vocab = sorted(reduce(lambda x, y: x | y, (set(natural + cmd) for natural, cmd in train + test)))\n",
    "# Reserve 0 for masking via pad_sequences\n",
    "vocab_size = len(vocab) + 1\n",
    "word_idx = dict((c, i + 1) for i, c in enumerate(vocab))\n",
    "word_idx_rev = {v: k for k, v in word_idx.items()}\n",
    "natural_maxlen = max(map(len, (x for x, _ in train + test)))\n",
    "cmd_maxlen = max(map(len, (x for _, x in train + test)))"
   ]
  },
  {
   "cell_type": "code",
   "execution_count": 23,
   "metadata": {},
   "outputs": [
    {
     "name": "stdout",
     "output_type": "stream",
     "text": [
      "vocab(126) = ['&&', '1', '10', '2', '3', '4', '5', '56', '56_1', '56_10', '56_2', '56_3', '56_4', '56_5', '56_6', '56_7', '56_8', '56_9', '6', '7', '8', '9', 'J', 'J_1', 'J_10', 'J_2', 'J_3', 'J_4', 'J_5', 'J_6', 'J_7', 'J_8', 'J_9', 'K7U1IW', 'K7U1IW_1', 'K7U1IW_10', 'K7U1IW_2', 'K7U1IW_3', 'K7U1IW_4', 'K7U1IW_5', 'K7U1IW_6', 'K7U1IW_7', 'K7U1IW_8', 'K7U1IW_9', 'N2', 'N2_1', 'N2_10', 'N2_2', 'N2_3', 'N2_4', 'N2_5', 'N2_6', 'N2_7', 'N2_8', 'N2_9', 'O4SCXPKEU', 'O4SCXPKEU_1', 'O4SCXPKEU_10', 'O4SCXPKEU_2', 'O4SCXPKEU_3', 'O4SCXPKEU_4', 'O4SCXPKEU_5', 'O4SCXPKEU_6', 'O4SCXPKEU_7', 'O4SCXPKEU_8', 'O4SCXPKEU_9', 'PHIHGJ', 'PHIHGJ_1', 'PHIHGJ_10', 'PHIHGJ_2', 'PHIHGJ_3', 'PHIHGJ_4', 'PHIHGJ_5', 'PHIHGJ_6', 'PHIHGJ_7', 'PHIHGJ_8', 'PHIHGJ_9', 'R6W1ED8D', 'R6W1ED8D_1', 'R6W1ED8D_10', 'R6W1ED8D_2', 'R6W1ED8D_3', 'R6W1ED8D_4', 'R6W1ED8D_5', 'R6W1ED8D_6', 'R6W1ED8D_7', 'R6W1ED8D_8', 'R6W1ED8D_9', 'XKZZ3F2', 'XKZZ3F2_1', 'XKZZ3F2_10', 'XKZZ3F2_2', 'XKZZ3F2_3', 'XKZZ3F2_4', 'XKZZ3F2_5', 'XKZZ3F2_6', 'XKZZ3F2_7', 'XKZZ3F2_8', 'XKZZ3F2_9', 'Y29PE67', 'Y29PE67_1', 'Y29PE67_10', 'Y29PE67_2', 'Y29PE67_3', 'Y29PE67_4', 'Y29PE67_5', 'Y29PE67_6', 'Y29PE67_7', 'Y29PE67_8', 'Y29PE67_9', 'Z0K97', 'Z0K97_1', 'Z0K97_10', 'Z0K97_2', 'Z0K97_3', 'Z0K97_4', 'Z0K97_5', 'Z0K97_6', 'Z0K97_7', 'Z0K97_8', 'Z0K97_9', 'create', 'directories', 'mkdir', 'starting', 'with']\n",
      "X.shape = (83, 6)\n",
      "Y.shape = (83, 29)\n",
      "Xv.shape = (17, 6)\n",
      "Yv.shape = (17, 29)\n",
      "natural_maxlen, cmd_maxlen = 6, 29\n"
     ]
    }
   ],
   "source": [
    "X, Y = vectorize_stories(train, word_idx, natural_maxlen, cmd_maxlen)\n",
    "Xv, Yv = vectorize_stories(test, word_idx, natural_maxlen, cmd_maxlen)\n",
    "\n",
    "# i = 0\n",
    "# for Ys in Xqv:\n",
    "#     if i % 20 == 0:\n",
    "#         print \" \".join(to_words(Ys)), \": \" + word_idx_rev[np.argmax(Yv[i])]\n",
    "#     i+=1\n",
    "\n",
    "print('vocab({}) = {}'.format(len(vocab), vocab))\n",
    "print('X.shape = {}'.format(X.shape))\n",
    "print('Y.shape = {}'.format(Y.shape))\n",
    "\n",
    "print('Xv.shape = {}'.format(Xv.shape))\n",
    "print('Yv.shape = {}'.format(Yv.shape))\n",
    "print('natural_maxlen, cmd_maxlen = {}, {}'.format(natural_maxlen, cmd_maxlen))"
   ]
  },
  {
   "cell_type": "code",
   "execution_count": 24,
   "metadata": {},
   "outputs": [
    {
     "name": "stdout",
     "output_type": "stream",
     "text": [
      "Build model...\n"
     ]
    }
   ],
   "source": [
    "print('Build model...')\n",
    "\n",
    "model = Sequential()\n",
    "model.add(Embedding(vocab_size, EMBED_HIDDEN_SIZE,\n",
    "                   input_length=natural_maxlen))\n",
    "model.add(Dropout(0.2))\n",
    "model.add(Dense(cmd_maxlen, activation='softmax'))\n",
    "model.compile(optimizer='adam',\n",
    "              loss='categorical_crossentropy',\n",
    "              metrics=['accuracy'])"
   ]
  },
  {
   "cell_type": "code",
   "execution_count": 27,
   "metadata": {},
   "outputs": [
    {
     "name": "stdout",
     "output_type": "stream",
     "text": [
      "Training model....\n",
      "Iteration 0\n"
     ]
    },
    {
     "ename": "ValueError",
     "evalue": "Error when checking target: expected dense_4 to have 3 dimensions, but got array with shape (83, 29)",
     "output_type": "error",
     "traceback": [
      "\u001b[0;31m---------------------------------------------------------------------------\u001b[0m",
      "\u001b[0;31mValueError\u001b[0m                                Traceback (most recent call last)",
      "\u001b[0;32m<ipython-input-27-a0a4daa86d0f>\u001b[0m in \u001b[0;36m<module>\u001b[0;34m()\u001b[0m\n\u001b[1;32m      8\u001b[0m \u001b[0;32mfor\u001b[0m \u001b[0miteration\u001b[0m \u001b[0;32min\u001b[0m \u001b[0mrange\u001b[0m\u001b[0;34m(\u001b[0m\u001b[0;36m100\u001b[0m\u001b[0;34m)\u001b[0m\u001b[0;34m:\u001b[0m\u001b[0;34m\u001b[0m\u001b[0m\n\u001b[1;32m      9\u001b[0m     \u001b[0mprint\u001b[0m\u001b[0;34m(\u001b[0m\u001b[0;34m\"Iteration %d\"\u001b[0m \u001b[0;34m%\u001b[0m \u001b[0miteration\u001b[0m\u001b[0;34m)\u001b[0m\u001b[0;34m\u001b[0m\u001b[0m\n\u001b[0;32m---> 10\u001b[0;31m     \u001b[0mmodel\u001b[0m\u001b[0;34m.\u001b[0m\u001b[0mfit\u001b[0m\u001b[0;34m(\u001b[0m\u001b[0mtrain_data\u001b[0m\u001b[0;34m,\u001b[0m \u001b[0mY\u001b[0m\u001b[0;34m,\u001b[0m \u001b[0mbatch_size\u001b[0m\u001b[0;34m=\u001b[0m\u001b[0mBATCH_SIZE\u001b[0m\u001b[0;34m,\u001b[0m \u001b[0mshuffle\u001b[0m\u001b[0;34m=\u001b[0m\u001b[0;32mFalse\u001b[0m\u001b[0;34m,\u001b[0m \u001b[0mepochs\u001b[0m\u001b[0;34m=\u001b[0m\u001b[0;36m3\u001b[0m\u001b[0;34m,\u001b[0m \u001b[0mvalidation_data\u001b[0m\u001b[0;34m=\u001b[0m\u001b[0mvalidation_data\u001b[0m\u001b[0;34m)\u001b[0m\u001b[0;34m\u001b[0m\u001b[0m\n\u001b[0m\u001b[1;32m     11\u001b[0m     \u001b[0mmodel\u001b[0m\u001b[0;34m.\u001b[0m\u001b[0msave_weights\u001b[0m\u001b[0;34m(\u001b[0m\u001b[0mPATH_MODEL\u001b[0m\u001b[0;34m,\u001b[0m \u001b[0moverwrite\u001b[0m\u001b[0;34m=\u001b[0m\u001b[0;32mTrue\u001b[0m\u001b[0;34m)\u001b[0m\u001b[0;34m\u001b[0m\u001b[0m\n\u001b[1;32m     12\u001b[0m \u001b[0mprint\u001b[0m\u001b[0;34m(\u001b[0m\u001b[0;34m\"Saved model to %s...\"\u001b[0m \u001b[0;34m%\u001b[0m \u001b[0mPATH_MODEL\u001b[0m\u001b[0;34m)\u001b[0m\u001b[0;34m\u001b[0m\u001b[0m\n",
      "\u001b[0;32m~/Projects/eugene/venv/lib/python3.5/site-packages/keras/models.py\u001b[0m in \u001b[0;36mfit\u001b[0;34m(self, x, y, batch_size, epochs, verbose, callbacks, validation_split, validation_data, shuffle, class_weight, sample_weight, initial_epoch, **kwargs)\u001b[0m\n\u001b[1;32m    868\u001b[0m                               \u001b[0mclass_weight\u001b[0m\u001b[0;34m=\u001b[0m\u001b[0mclass_weight\u001b[0m\u001b[0;34m,\u001b[0m\u001b[0;34m\u001b[0m\u001b[0m\n\u001b[1;32m    869\u001b[0m                               \u001b[0msample_weight\u001b[0m\u001b[0;34m=\u001b[0m\u001b[0msample_weight\u001b[0m\u001b[0;34m,\u001b[0m\u001b[0;34m\u001b[0m\u001b[0m\n\u001b[0;32m--> 870\u001b[0;31m                               initial_epoch=initial_epoch)\n\u001b[0m\u001b[1;32m    871\u001b[0m \u001b[0;34m\u001b[0m\u001b[0m\n\u001b[1;32m    872\u001b[0m     def evaluate(self, x, y, batch_size=32, verbose=1,\n",
      "\u001b[0;32m~/Projects/eugene/venv/lib/python3.5/site-packages/keras/engine/training.py\u001b[0m in \u001b[0;36mfit\u001b[0;34m(self, x, y, batch_size, epochs, verbose, callbacks, validation_split, validation_data, shuffle, class_weight, sample_weight, initial_epoch, **kwargs)\u001b[0m\n\u001b[1;32m   1433\u001b[0m             \u001b[0mclass_weight\u001b[0m\u001b[0;34m=\u001b[0m\u001b[0mclass_weight\u001b[0m\u001b[0;34m,\u001b[0m\u001b[0;34m\u001b[0m\u001b[0m\n\u001b[1;32m   1434\u001b[0m             \u001b[0mcheck_batch_axis\u001b[0m\u001b[0;34m=\u001b[0m\u001b[0;32mFalse\u001b[0m\u001b[0;34m,\u001b[0m\u001b[0;34m\u001b[0m\u001b[0m\n\u001b[0;32m-> 1435\u001b[0;31m             batch_size=batch_size)\n\u001b[0m\u001b[1;32m   1436\u001b[0m         \u001b[0;31m# Prepare validation data.\u001b[0m\u001b[0;34m\u001b[0m\u001b[0;34m\u001b[0m\u001b[0m\n\u001b[1;32m   1437\u001b[0m         \u001b[0;32mif\u001b[0m \u001b[0mvalidation_data\u001b[0m\u001b[0;34m:\u001b[0m\u001b[0;34m\u001b[0m\u001b[0m\n",
      "\u001b[0;32m~/Projects/eugene/venv/lib/python3.5/site-packages/keras/engine/training.py\u001b[0m in \u001b[0;36m_standardize_user_data\u001b[0;34m(self, x, y, sample_weight, class_weight, check_batch_axis, batch_size)\u001b[0m\n\u001b[1;32m   1313\u001b[0m                                     \u001b[0moutput_shapes\u001b[0m\u001b[0;34m,\u001b[0m\u001b[0;34m\u001b[0m\u001b[0m\n\u001b[1;32m   1314\u001b[0m                                     \u001b[0mcheck_batch_axis\u001b[0m\u001b[0;34m=\u001b[0m\u001b[0;32mFalse\u001b[0m\u001b[0;34m,\u001b[0m\u001b[0;34m\u001b[0m\u001b[0m\n\u001b[0;32m-> 1315\u001b[0;31m                                     exception_prefix='target')\n\u001b[0m\u001b[1;32m   1316\u001b[0m         sample_weights = _standardize_sample_weights(sample_weight,\n\u001b[1;32m   1317\u001b[0m                                                      self._feed_output_names)\n",
      "\u001b[0;32m~/Projects/eugene/venv/lib/python3.5/site-packages/keras/engine/training.py\u001b[0m in \u001b[0;36m_standardize_input_data\u001b[0;34m(data, names, shapes, check_batch_axis, exception_prefix)\u001b[0m\n\u001b[1;32m    125\u001b[0m                                  \u001b[0;34m' to have '\u001b[0m \u001b[0;34m+\u001b[0m \u001b[0mstr\u001b[0m\u001b[0;34m(\u001b[0m\u001b[0mlen\u001b[0m\u001b[0;34m(\u001b[0m\u001b[0mshapes\u001b[0m\u001b[0;34m[\u001b[0m\u001b[0mi\u001b[0m\u001b[0;34m]\u001b[0m\u001b[0;34m)\u001b[0m\u001b[0;34m)\u001b[0m \u001b[0;34m+\u001b[0m\u001b[0;34m\u001b[0m\u001b[0m\n\u001b[1;32m    126\u001b[0m                                  \u001b[0;34m' dimensions, but got array with shape '\u001b[0m \u001b[0;34m+\u001b[0m\u001b[0;34m\u001b[0m\u001b[0m\n\u001b[0;32m--> 127\u001b[0;31m                                  str(array.shape))\n\u001b[0m\u001b[1;32m    128\u001b[0m             \u001b[0;32mfor\u001b[0m \u001b[0mj\u001b[0m\u001b[0;34m,\u001b[0m \u001b[0;34m(\u001b[0m\u001b[0mdim\u001b[0m\u001b[0;34m,\u001b[0m \u001b[0mref_dim\u001b[0m\u001b[0;34m)\u001b[0m \u001b[0;32min\u001b[0m \u001b[0menumerate\u001b[0m\u001b[0;34m(\u001b[0m\u001b[0mzip\u001b[0m\u001b[0;34m(\u001b[0m\u001b[0marray\u001b[0m\u001b[0;34m.\u001b[0m\u001b[0mshape\u001b[0m\u001b[0;34m,\u001b[0m \u001b[0mshapes\u001b[0m\u001b[0;34m[\u001b[0m\u001b[0mi\u001b[0m\u001b[0;34m]\u001b[0m\u001b[0;34m)\u001b[0m\u001b[0;34m)\u001b[0m\u001b[0;34m:\u001b[0m\u001b[0;34m\u001b[0m\u001b[0m\n\u001b[1;32m    129\u001b[0m                 \u001b[0;32mif\u001b[0m \u001b[0;32mnot\u001b[0m \u001b[0mj\u001b[0m \u001b[0;32mand\u001b[0m \u001b[0;32mnot\u001b[0m \u001b[0mcheck_batch_axis\u001b[0m\u001b[0;34m:\u001b[0m\u001b[0;34m\u001b[0m\u001b[0m\n",
      "\u001b[0;31mValueError\u001b[0m: Error when checking target: expected dense_4 to have 3 dimensions, but got array with shape (83, 29)"
     ]
    }
   ],
   "source": [
    "if os.path.exists(PATH_MODEL):\n",
    "    model.load_weights(PATH_MODEL)\n",
    "    print(\"Loaded existing weights...\")\n",
    "\n",
    "print(\"Training model....\")\n",
    "validation_data = (Xv, Yv)\n",
    "train_data = X\n",
    "for iteration in range(100):        \n",
    "    print(\"Iteration %d\" % iteration)\n",
    "    model.fit(train_data, Y, batch_size=BATCH_SIZE, shuffle=False, epochs=3, validation_data=validation_data)        \n",
    "    model.save_weights(PATH_MODEL, overwrite=True)\n",
    "print(\"Saved model to %s...\" % PATH_MODEL)"
   ]
  },
  {
   "cell_type": "code",
   "execution_count": null,
   "metadata": {
    "collapsed": true
   },
   "outputs": [],
   "source": [
    "def to_words(seq):\n",
    "    return [word_idx_rev[s] for s in seq if s > 0]\n",
    "\n",
    "def to_seq(words, maxlen):\n",
    "    if type(words) is str:\n",
    "        words = tokenize(words)\n",
    "    seq = [word_idx[w] for w in words if w in word_idx]\n",
    "    return pad_sequences([seq], maxlen=maxlen)\n",
    "\n",
    "def ask(text, question):    \n",
    "    seq = to_seq(text, story_maxlen)\n",
    "    probs = model.predict([np.array(seq), np.array(to_seq(question, query_maxlen))])\n",
    "    for prob in probs:\n",
    "        return word_idx_rev[np.argmax(prob)]        "
   ]
  },
  {
   "cell_type": "code",
   "execution_count": null,
   "metadata": {
    "scrolled": true
   },
   "outputs": [],
   "source": [
    "print \"QA test system\\n==========\"\n",
    "QAPairs = [\n",
    "    (\n",
    "        \"\"\"\n",
    "        John travelled to the kitchen.\n",
    "        Sandra got the football there.\n",
    "        \"\"\",\n",
    "        \"Where is the football?\"\n",
    "    ), (\n",
    "        \"\"\"\n",
    "        John travelled to the kitchen, then he went to the garden to beat Stan.\n",
    "        Sandra got the football there.\n",
    "        \"\"\",\n",
    "        \"Where is the football?\"\n",
    "    ), (\n",
    "        \"\"\"\n",
    "        John travelled to the kitchen, then he went to the garden to beat Stan.\n",
    "        Sandra got the football and the milk there.\n",
    "        \"\"\",\n",
    "        \"Where is the milk?\"\n",
    "    ), (\n",
    "        \"\"\"\n",
    "        John travelled to the kitchen, then he went to the garden to beat Stan.\n",
    "        Sandra got the football but left the milk in the kitchen.\n",
    "        \"\"\",\n",
    "        \"Where is the milk?\"\n",
    "    ), (\n",
    "        \"John left with a football on his way to the garden. When back in the kitchen, he saw Sandra. Sandra threw the ball through the window in the garden again.\",\n",
    "        (\"Where is John?\", \"Where is the football?\")\n",
    "    ), (\n",
    "        \"\"\"\n",
    "        Mary got an football. She dropped the football.\n",
    "        \"\"\",\n",
    "        (\"How many objects is Mary carrying?\")\n",
    "    )\n",
    "]\n",
    "\n",
    "idx = 0\n",
    "for qa in QAPairs:\n",
    "    print \"Story: %s\" % qa[0]\n",
    "    if type(qa[1]) is tuple:\n",
    "        for qas in qa[1]:            \n",
    "            print \"Question: %s\" % qas            \n",
    "            print \"Answer: %s\" % ask(qa[0], qas)\n",
    "    else:\n",
    "            print \"Question: %s\" % qa[1]\n",
    "            print \"Answer: %s\" % ask(qa[0], qa[1])\n",
    "    idx += 1\n",
    "    if idx < len(QAPairs):\n",
    "        print \"\\n\""
   ]
  },
  {
   "cell_type": "code",
   "execution_count": null,
   "metadata": {
    "collapsed": true
   },
   "outputs": [],
   "source": []
  }
 ],
 "metadata": {
  "kernelspec": {
   "display_name": "Python 3",
   "language": "python",
   "name": "python3"
  },
  "language_info": {
   "codemirror_mode": {
    "name": "ipython",
    "version": 3
   },
   "file_extension": ".py",
   "mimetype": "text/x-python",
   "name": "python",
   "nbconvert_exporter": "python",
   "pygments_lexer": "ipython3",
   "version": "3.5.2"
  }
 },
 "nbformat": 4,
 "nbformat_minor": 2
}
